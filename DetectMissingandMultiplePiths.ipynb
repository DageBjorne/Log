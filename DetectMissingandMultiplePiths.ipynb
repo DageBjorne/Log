{
 "cells": [
  {
   "cell_type": "markdown",
   "id": "c4c6347c",
   "metadata": {},
   "source": [
    "In this notebook we find unlabeled data and images with more than one pith."
   ]
  },
  {
   "cell_type": "code",
   "execution_count": 8,
   "id": "6af64099",
   "metadata": {},
   "outputs": [],
   "source": [
    "import json\n",
    "\n",
    "with open(r'C:\\Users\\Dag Bjornberg\\Downloads\\Pith\\Pith1.json') as f:\n",
    "  Pith1 = json.load(f)"
   ]
  },
  {
   "cell_type": "markdown",
   "id": "0d05366e",
   "metadata": {},
   "source": [
    "Searching for unlabeled data: We print the image names of the images that have no bounding box. Then we search for these images in Hasty to correct them and download the new dataset. We could also remove them from training but then we would get less training data and we would not have the data in Hasty cleaned up. We also search for logs with more than one pith (although this is very rare). Finally, we count the number of anomalies, which I define as logs with no pith or logs with more than one pith. "
   ]
  },
  {
   "cell_type": "code",
   "execution_count": 9,
   "id": "d665c80d",
   "metadata": {},
   "outputs": [
    {
     "name": "stdout",
     "output_type": "stream",
     "text": [
      "{'Change this picture': '6fd9edaf-2c61-486b-a204-2196a38fb0f5.jpg'}\n",
      "{'Change this picture': 'a44959bd-2791-45d2-9b7c-5f5dbc7f593f.jpg'}\n",
      "{'Change this picture': 'dba31809-00c9-4e46-ac81-42c231319d4b.jpg'}\n",
      "{'Change this picture': 'fb954e42-fc4c-4faf-b98c-260e5298176f.jpg'}\n",
      "{'More than one pith located for this log': '1d158f6d-213d-4219-bc4d-675614bcdba3.jpg'}\n",
      "{'Number of anomalies': 5}\n"
     ]
    }
   ],
   "source": [
    "count = 0 # counting to see how many anomalies we have\n",
    "images = Pith1[\"images\"]\n",
    "for image in images:\n",
    "    if len(image[\"labels\"]) == 0:\n",
    "        print({'Change this picture': image[\"image_name\"]})\n",
    "        count = count + 1\n",
    "    elif len(image[\"labels\"]) > 1:\n",
    "        print({'More than one pith located for this log': image[\"image_name\"]}) # order different for labeled data\n",
    "        count = count + 1\n",
    "print({'Number of anomalies': count})"
   ]
  },
  {
   "cell_type": "markdown",
   "id": "cff6b82d",
   "metadata": {},
   "source": [
    "After controlling the data, I changed the unlabeled pictures. I also checked the one picture with more than one pith. It turned out that I, by mistake, added one more pith in this picture. We correct this and download the new data."
   ]
  },
  {
   "cell_type": "code",
   "execution_count": 10,
   "id": "a660bbc9",
   "metadata": {},
   "outputs": [],
   "source": [
    "with open(r'C:\\Users\\Dag Bjornberg\\Downloads\\Pith\\Pith2.json') as f:\n",
    "  Pith2 = json.load(f)\n"
   ]
  },
  {
   "cell_type": "markdown",
   "id": "bc2fb963",
   "metadata": {},
   "source": [
    "Searching for unlabeled data once again. If everything is fine now we will have no such data."
   ]
  },
  {
   "cell_type": "code",
   "execution_count": 11,
   "id": "01f7af38",
   "metadata": {},
   "outputs": [
    {
     "name": "stdout",
     "output_type": "stream",
     "text": [
      "{'Number of anomalies': 0}\n"
     ]
    }
   ],
   "source": [
    "count = 0 # counting to see how many anomalies we have\n",
    "images = Pith2[\"images\"]\n",
    "for image in images:\n",
    "    if len(image[\"labels\"]) == 0:\n",
    "        print({'Change this picture': image[\"image_name\"]})\n",
    "        count = count + 1\n",
    "    elif len(image[\"labels\"]) > 1:\n",
    "        print({'More than one pith located for this log': image[\"image_name\"]}) # order different for labeled data\n",
    "        count = count + 1\n",
    "print({'Number of anomalies': count})"
   ]
  }
 ],
 "metadata": {
  "kernelspec": {
   "display_name": "Python 3",
   "language": "python",
   "name": "python3"
  },
  "language_info": {
   "codemirror_mode": {
    "name": "ipython",
    "version": 3
   },
   "file_extension": ".py",
   "mimetype": "text/x-python",
   "name": "python",
   "nbconvert_exporter": "python",
   "pygments_lexer": "ipython3",
   "version": "3.8.8"
  }
 },
 "nbformat": 4,
 "nbformat_minor": 5
}
